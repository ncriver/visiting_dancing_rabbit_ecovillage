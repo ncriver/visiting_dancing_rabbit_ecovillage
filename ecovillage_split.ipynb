{
 "cells": [
  {
   "cell_type": "code",
   "execution_count": null,
   "metadata": {},
   "outputs": [],
   "source": [
    "import os\n",
    "import re\n",
    "\n",
    "with open(\"visit to dancing rabbit 2012 condensed.txt\", 'r') as f:\n",
    "    text = f.read()\n",
    "trimmed = re.sub('\\n#+', '#', text)"
   ]
  },
  {
   "cell_type": "code",
   "execution_count": null,
   "metadata": {},
   "outputs": [],
   "source": [
    "def put_header_symbol(match):\n",
    "    return '#' + match.group(0).replace('#','').strip()\n",
    "\n",
    "trimmed = re.sub('^.+#', put_header_symbol, trimmed, flags = re.MULTILINE)"
   ]
  },
  {
   "cell_type": "code",
   "execution_count": null,
   "metadata": {},
   "outputs": [],
   "source": [
    "from collections import OrderedDict\n",
    "\n",
    "trimmed = re.sub('\\n+', '\\n', trimmed)\n",
    "sections = trimmed[1:].split('#')\n",
    "len(sections)\n",
    "sect_dict = OrderedDict()\n",
    "for s in sections:\n",
    "    (title, body) = s.split('\\n', 1)\n",
    "    sect_dict[title.strip()] = body.strip()\n",
    "    \n",
    "for k in sect_dict:\n",
    "    print(k)"
   ]
  },
  {
   "cell_type": "code",
   "execution_count": null,
   "metadata": {},
   "outputs": [],
   "source": [
    "xml_header = '''<?xml version=\"1.0\" encoding=\"UTF-8\"?>\n",
    "<!DOCTYPE concept PUBLIC \"-//OASIS//DTD DITA Concept//EN\" \"concept.dtd\">\n",
    "<concept id=\"{}\">'''\n",
    "xml_footer = '''</conbody>\n",
    "    </concept>'''\n",
    "    \n",
    "outputs = []\n",
    "for s in sect_dict:\n",
    "    title_id = s.lower().replace(' ', '_')\n",
    "    cur_header = xml_header.format(title_id) + '<title>{}</title>\\n'.format(s)\n",
    "    cur_body = '<conbody>\\n<p>' + sect_dict[s].replace('\\n', '</p>\\n<p>') + '</p></conbody>'\n",
    "    cur_output = cur_header + '\\n' + cur_body + xml_footer\n",
    "    xml_escape_dict = {'\"': '&quot;', '&': '&amp;', \"'\": '&apos;', '<': '&lt;', '>': '&gt;'}\n",
    "    outputs.append(cur_output)    "
   ]
  },
  {
   "cell_type": "code",
   "execution_count": null,
   "metadata": {},
   "outputs": [],
   "source": [
    "from bs4 import BeautifulSoup\n",
    "\n",
    "for out in outputs:\n",
    "    bs = BeautifulSoup(out, 'xml')\n",
    "    filename = bs.concept.get('id') + '.dita'\n",
    "    with open(filename, 'w') as f:\n",
    "        f.write(bs.prettify())"
   ]
  },
  {
   "cell_type": "code",
   "execution_count": null,
   "metadata": {},
   "outputs": [],
   "source": [
    "# Producing the DITA map.\n",
    "\n",
    "import glob\n",
    "\n",
    "map_blank = '''<?xml version=\"1.0\" encoding=\"UTF-8\"?>\n",
    "<!DOCTYPE map PUBLIC \"-//OASIS//DTD DITA Map//EN\" \"map.dtd\">\n",
    "<map>\n",
    "    <title>My Visit to Dancing Rabbit Ecovillage</title>\n",
    "    {}\n",
    "</map>'''\n",
    "\n",
    "topicref_blank = '<topicref href=\"{}\"/>'\n",
    "topicref_text = ''\n",
    "for k in sect_dict:\n",
    "    topicref_text += topicref_blank.format(k.lower().replace(' ', '_')+'.dita') + '\\n'\n",
    "\n",
    "print(map_blank.format(topicref_text))"
   ]
  }
 ],
 "metadata": {
  "kernelspec": {
   "display_name": "Python 3",
   "language": "python",
   "name": "python3"
  },
  "language_info": {
   "codemirror_mode": {
    "name": "ipython",
    "version": 3
   },
   "file_extension": ".py",
   "mimetype": "text/x-python",
   "name": "python",
   "nbconvert_exporter": "python",
   "pygments_lexer": "ipython3",
   "version": "3.6.4"
  }
 },
 "nbformat": 4,
 "nbformat_minor": 2
}
